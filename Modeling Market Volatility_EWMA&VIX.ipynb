{
 "cells": [
  {
   "cell_type": "markdown",
   "metadata": {},
   "source": [
    "# MODELING VOLATILITY"
   ]
  },
  {
   "cell_type": "code",
   "execution_count": 1,
   "metadata": {},
   "outputs": [],
   "source": [
    "%store -r starting_dates1\n",
    "%store -r garch_vol1\n",
    "%store -r bear_markets"
   ]
  },
  {
   "cell_type": "code",
   "execution_count": 2,
   "metadata": {},
   "outputs": [
    {
     "name": "stderr",
     "output_type": "stream",
     "text": [
      "C:\\Users\\Momir\\.conda\\lib\\site-packages\\pandas_datareader\\compat\\__init__.py:7: FutureWarning: pandas.util.testing is deprecated. Use the functions in the public API at pandas.testing instead.\n",
      "  from pandas.util.testing import assert_frame_equal\n"
     ]
    }
   ],
   "source": [
    "import pandas as pd \n",
    "import numpy as np\n",
    "import pandas_datareader as pdr \n",
    "import datetime as dt\n",
    "import matplotlib.pyplot as plt\n",
    "import seaborn as sns\n",
    "from sklearn.linear_model import LinearRegression\n",
    "from pandas_datareader.yahoo.daily import YahooDailyReader \n",
    "from sklearn.metrics import mean_squared_error\n",
    "from sklearn.metrics import r2_score\n",
    "import statsmodels.api as sm\n",
    "import statsmodels.formula.api as smf\n",
    "from scipy.optimize import minimize\n",
    "from scipy.optimize import Bounds\n",
    "#pd.options.display.float_format = '{:,.2f}'.format"
   ]
  },
  {
   "cell_type": "markdown",
   "metadata": {},
   "source": [
    "## Realized Volatility"
   ]
  },
  {
   "cell_type": "code",
   "execution_count": 3,
   "metadata": {},
   "outputs": [],
   "source": [
    "stock = (\"^GSPC\")\n",
    "start = dt.datetime (1998, 12, 31)\n",
    "end = dt.datetime (2020, 2, 18)  \n",
    "df_1 = YahooDailyReader (stock, start, end, interval='d').read()\n",
    "df = df_1['Adj Close']\n",
    "df = df[df.index.year<2020]\n",
    "market_return = (np.log(df)-np.log(df.shift(1))) #daily\n",
    "\n",
    "start = dt.datetime(1998, 12, 31)\n",
    "delta = 21\n",
    "starting_dates = []\n",
    "total=0\n",
    "while total<len(market_return[market_return.index>start]):\n",
    "    starting_dates.append(market_return.index[int(np.argwhere(market_return.index==start))+total])\n",
    "    total+=delta\n",
    "\n",
    "    \n",
    "def realized_volatility(returns, starting_dates):\n",
    "    \n",
    "    \"\"\"\"\"\n",
    "    returns annualized volatility\n",
    "    \"\"\"\"\"\n",
    "    \n",
    "    data = {}\n",
    "    realized_vol = {}\n",
    "    for i in range (len(starting_dates)-1):\n",
    "        data[i] = (returns[(returns.index>=starting_dates[i])*(returns.index<starting_dates[i+1])])\n",
    "        realized_vol[i] = np.std(data[i])*np.sqrt(252)\n",
    "        \n",
    "    realized = pd.DataFrame (data = None, index = starting_dates[:-1], columns=['S&P'])\n",
    "    for i in range(len(realized_vol)):\n",
    "        realized[i:i+1] = realized_vol[i]\n",
    "    \n",
    "    return realized    \n",
    "\n",
    "realized = realized_volatility (market_return, starting_dates)"
   ]
  },
  {
   "cell_type": "code",
   "execution_count": 4,
   "metadata": {},
   "outputs": [
    {
     "name": "stdout",
     "output_type": "stream",
     "text": [
      "Stored 'realized' (DataFrame)\n"
     ]
    }
   ],
   "source": [
    "%store realized"
   ]
  },
  {
   "cell_type": "code",
   "execution_count": 5,
   "metadata": {},
   "outputs": [],
   "source": [
    "df = pd.read_excel ('Data//data_DJ_universe.xlsx')\n",
    "df = df.set_index('Date')\n",
    "df_CCR = np.log(df)-np.log(df.shift(1))"
   ]
  },
  {
   "cell_type": "code",
   "execution_count": 6,
   "metadata": {},
   "outputs": [],
   "source": [
    "realized_vol_stocks = {}\n",
    "for column in df_CCR.columns[:-1]:\n",
    "    realized_vol_stocks[column] = realized_volatility(df_CCR[column], starting_dates)"
   ]
  },
  {
   "cell_type": "code",
   "execution_count": 7,
   "metadata": {},
   "outputs": [
    {
     "name": "stdout",
     "output_type": "stream",
     "text": [
      "Stored 'realized_vol_stocks' (dict)\n"
     ]
    }
   ],
   "source": [
    "%store realized_vol_stocks"
   ]
  },
  {
   "cell_type": "markdown",
   "metadata": {},
   "source": [
    "## VIX"
   ]
  },
  {
   "cell_type": "code",
   "execution_count": 8,
   "metadata": {},
   "outputs": [],
   "source": [
    "vix1 = pd.read_excel('Data//vixarchive.xls')\n",
    "vix1 = vix1.set_index('Date')\n",
    "vix2 = pd.read_csv ('Data//vixcurrent.csv')\n",
    "vix2 = vix2.set_index('Date')\n",
    "vix = pd.concat([vix1, vix2])\n",
    "vix.index = pd.to_datetime(vix.index)\n",
    "vix = vix['VIX Open']\n",
    "vix = vix[vix.index>=dt.datetime(1998, 12, 31)]\n",
    "\n",
    "vix_ = pd.DataFrame (data=None, index=starting_dates, columns=['VIX'])\n",
    "for i in range(len(starting_dates)):\n",
    "    vix_[i:i+1] = (vix[vix.index == starting_dates[i]])\n",
    "vix_ = vix_/100\n",
    "vix_ = vix_[:-1]"
   ]
  },
  {
   "cell_type": "code",
   "execution_count": 9,
   "metadata": {},
   "outputs": [],
   "source": [
    "vix_daily = pd.concat([vix1, vix2])['VIX Open']\n",
    "vix_daily.index = pd.to_datetime(vix_daily.index)\n",
    "vix_daily = vix_daily.dropna()"
   ]
  },
  {
   "cell_type": "code",
   "execution_count": 10,
   "metadata": {},
   "outputs": [
    {
     "name": "stdout",
     "output_type": "stream",
     "text": [
      "Stored 'vix_daily' (Series)\n"
     ]
    }
   ],
   "source": [
    "%store vix_daily"
   ]
  },
  {
   "cell_type": "markdown",
   "metadata": {},
   "source": [
    "## Historical Volatility Risk Premium & VIX Adjustment"
   ]
  },
  {
   "cell_type": "code",
   "execution_count": 11,
   "metadata": {},
   "outputs": [],
   "source": [
    "def vol_risk_premium (realized_vol, vix_, starting_dates, start):\n",
    "    \n",
    "    if realized_vol.index[0]==vix_.index[0]:\n",
    "\n",
    "        HVRP = {}\n",
    "        for i in range (len(realized_vol)):\n",
    "            HVRP [i] = (float(np.asarray(vix_[i:i+1]))**2 / float(np.asarray (realized_vol[i:i+1]))**2)\n",
    "\n",
    "        HVRP_sqrd = pd.DataFrame(data=None, index=starting_dates[0:-1], columns=['HVRP sqrd'])    \n",
    "        for i in range (len(HVRP)):\n",
    "            HVRP_sqrd[i:i+1] = HVRP[i]\n",
    "\n",
    "        HVRP_sqrd.index.name = 'Start of interval'    \n",
    "\n",
    "        ### adjusting starting dates for our testing period\n",
    "\n",
    "        starting_dates = pd.to_datetime(starting_dates)\n",
    "        starting_dates1 = starting_dates[starting_dates>=start]\n",
    "        vix_1 = vix_[vix_.index>=starting_dates1[0]]\n",
    "        HVRP = {}\n",
    "        for i in range (len(vix_1)):\n",
    "            HVRP[i] = np.sqrt (np.mean (HVRP_sqrd[i:i+12]))    \n",
    "\n",
    "        exp_vol = {}\n",
    "        for i in range(len(HVRP)):\n",
    "            exp_vol[i] = np.asarray(vix_1[i:i+1]) / np.asarray(HVRP[i])\n",
    "\n",
    "        expected_vol = pd.DataFrame (data=None, index=vix_1.index, columns=['Expected Volatility'])\n",
    "        for i in range (len (exp_vol)):\n",
    "            expected_vol[i:i+1] = exp_vol[i]\n",
    "\n",
    "        expected_vol.index.name = 'Start of rebalance int'\n",
    "\n",
    "        return expected_vol\n",
    "    \n",
    "    else:\n",
    "        print ('Mistake, make sure realized volatilitiy and vix starting day is the same')"
   ]
  },
  {
   "cell_type": "code",
   "execution_count": 12,
   "metadata": {},
   "outputs": [],
   "source": [
    "vix_adj = vol_risk_premium (realized, vix_, starting_dates, starting_dates1[0])"
   ]
  },
  {
   "cell_type": "markdown",
   "metadata": {},
   "source": [
    "## EWMA Model Variance Estimation\n",
    "Risk Metrics document suggest we should use lambda 0.94"
   ]
  },
  {
   "cell_type": "markdown",
   "metadata": {},
   "source": [
    "### STEPS:\n",
    "    1st data period squared returns used for estimation of variance (var0) for the second period \n",
    "    estimated variance for the second period (var0) and return in the second period are used for estimating variance for third period\n",
    "    for coding purposes we will refer to the first instances of varinace and return as var0 and return0, respectively, despite they are \n",
    "    estimated in different intervals (first period, second period respectively).\n",
    "    Therefore, the first period EWMA full recursive formula is applied to is the third period, based on variance estimate for \n",
    "    the second period, and realized return in the second period."
   ]
  },
  {
   "cell_type": "markdown",
   "metadata": {},
   "source": [
    "#### Risk Metrics approach:\n",
    "    *Initial variance forecast = initial return squared.\n",
    "#### Technique used below:\n",
    "        - var(n-1) = return(n-2) **2 \n",
    "        - var (n) = lambda*var(n-1) + (1-lambda)*return(n-1)\n",
    "        \n",
    "First implementation of the recursive formula is for the period between 2nd and 3rd starting date, whereas the first variance estimate (var0) is forecasting variance for the period between starting_dates[1] and starting_dates[2]  "
   ]
  },
  {
   "cell_type": "code",
   "execution_count": 13,
   "metadata": {},
   "outputs": [],
   "source": [
    "def EWMA (decay, df_CCR, start):\n",
    "    \n",
    "    market_return = df_CCR['^GSPC']\n",
    "    security = market_return.iloc[int(np.argwhere(market_return.index==start))-2 : ]\n",
    "    var0 = (security[0])**2 ## first period used to estimate var 0 (daily variance )\n",
    "    daily_return = security[1:]\n",
    "    \n",
    "    var = [var0]\n",
    "    for i in range(len(daily_return)):\n",
    "        var.append(decay*var[i]+(1-decay)*daily_return[i]**2)\n",
    "    return pd.Series (var, index=security.index)"
   ]
  },
  {
   "cell_type": "code",
   "execution_count": 14,
   "metadata": {},
   "outputs": [],
   "source": [
    "start = dt.datetime (1999, 12, 31)\n",
    "daily_ewma = EWMA (0.94, df_CCR, start)"
   ]
  },
  {
   "cell_type": "code",
   "execution_count": 15,
   "metadata": {},
   "outputs": [],
   "source": [
    "def metrics (realized, predicted, start, end):\n",
    "    predicted = predicted[(predicted.index>=start)*(predicted.index<=end)]\n",
    "    realized = realized[(realized.index>=start)*(realized.index<=end)]\n",
    "    if realized.index[0]==predicted.index[0]:    \n",
    "        stats = pd.DataFrame (index = ['Values'], columns=['RMSE', 'R2'])\n",
    "        stats.iloc[[0, 0]] = round (np.sqrt(mean_squared_error(realized, predicted)), 3)\n",
    "        stats.iloc[[0],[1]] = round (r2_score(realized, predicted), 3)\n",
    "        return stats"
   ]
  },
  {
   "cell_type": "markdown",
   "metadata": {},
   "source": [
    "## Modeling Volatility - Hybrid Models (50:50)\n",
    "    a) EWMA & implied volatility\n",
    "    b) GARCH & implied volatility"
   ]
  },
  {
   "cell_type": "code",
   "execution_count": 16,
   "metadata": {},
   "outputs": [
    {
     "data": {
      "text/plain": [
       "Date\n",
       "1999-12-29    0.000016\n",
       "dtype: float64"
      ]
     },
     "execution_count": 16,
     "metadata": {},
     "output_type": "execute_result"
    }
   ],
   "source": [
    "daily_ewma[0:1]"
   ]
  },
  {
   "cell_type": "code",
   "execution_count": 17,
   "metadata": {},
   "outputs": [],
   "source": [
    "ewma_vol_estimate_annualized = np.sqrt (daily_ewma[starting_dates1]*252)"
   ]
  },
  {
   "cell_type": "code",
   "execution_count": 18,
   "metadata": {},
   "outputs": [
    {
     "name": "stderr",
     "output_type": "stream",
     "text": [
      "C:\\Users\\Momir\\.conda\\lib\\site-packages\\ipykernel_launcher.py:7: DeprecationWarning: The default dtype for empty Series will be 'object' instead of 'float64' in a future version. Specify a dtype explicitly to silence this warning.\n",
      "  import sys\n"
     ]
    }
   ],
   "source": [
    "#a)\n",
    "ewma_implied = pd.DataFrame(index = vix_adj.index, columns=['Hybrid'])\n",
    "for i in range (len(vix_adj)):\n",
    "    ewma_implied[i:i+1] = ((vix_adj)[i:i+1].values + ewma_vol_estimate_annualized[i:i+1].values)/2\n",
    "    \n",
    "#b)\n",
    "garch_implied = pd.Series(index = garch_vol1.index)\n",
    "for i in range (len(garch_vol1)):\n",
    "    garch_implied[i] = ((vix_adj)[i:i+1].values + garch_vol1[i:i+1].values)/2"
   ]
  },
  {
   "cell_type": "markdown",
   "metadata": {},
   "source": [
    "## Comparison of Volatility Models"
   ]
  },
  {
   "cell_type": "code",
   "execution_count": 19,
   "metadata": {},
   "outputs": [],
   "source": [
    "historical_1month = realized.shift(1)"
   ]
  },
  {
   "cell_type": "code",
   "execution_count": 20,
   "metadata": {},
   "outputs": [],
   "source": [
    "volatilities = [vix_, vix_adj, ewma_vol_estimate_annualized, garch_vol1, historical_1month, ewma_implied, garch_implied]\n",
    "names = ['VIX', 'VIX_adj', 'EWMA', 'GARCH', 'Historical', 'EWMA Hybrid', 'GARCH Hybrid']\n",
    "for n in range (len (volatilities)):\n",
    "    volatilities[n] = volatilities[n][volatilities[n].index>=starting_dates1[0]]"
   ]
  },
  {
   "cell_type": "code",
   "execution_count": 21,
   "metadata": {},
   "outputs": [
    {
     "data": {
      "text/html": [
       "<div>\n",
       "<style scoped>\n",
       "    .dataframe tbody tr th:only-of-type {\n",
       "        vertical-align: middle;\n",
       "    }\n",
       "\n",
       "    .dataframe tbody tr th {\n",
       "        vertical-align: top;\n",
       "    }\n",
       "\n",
       "    .dataframe thead th {\n",
       "        text-align: right;\n",
       "    }\n",
       "</style>\n",
       "<table border=\"1\" class=\"dataframe\">\n",
       "  <thead>\n",
       "    <tr style=\"text-align: right;\">\n",
       "      <th></th>\n",
       "      <th>RMSE</th>\n",
       "      <th>R2</th>\n",
       "    </tr>\n",
       "  </thead>\n",
       "  <tbody>\n",
       "    <tr>\n",
       "      <th>Values</th>\n",
       "      <td>0.068</td>\n",
       "      <td>0.524</td>\n",
       "    </tr>\n",
       "  </tbody>\n",
       "</table>\n",
       "</div>"
      ],
      "text/plain": [
       "         RMSE     R2\n",
       "Values  0.068  0.524"
      ]
     },
     "execution_count": 21,
     "metadata": {},
     "output_type": "execute_result"
    }
   ],
   "source": [
    "%store -r garch_vol1995 \n",
    "metrics (realized, garch_vol1995, starting_dates1[0], starting_dates1[-2])"
   ]
  },
  {
   "cell_type": "markdown",
   "metadata": {},
   "source": [
    "garch_vol1 & garch_vol1995 are essentially the same except that the second one goes further in the past to enable us to find the right balance between garch and ewma"
   ]
  },
  {
   "cell_type": "code",
   "execution_count": 62,
   "metadata": {},
   "outputs": [],
   "source": [
    "vol_stats = pd.DataFrame(index=names, columns=['RMSE', 'R2'])\n",
    "for i in range (len(volatilities)):\n",
    "    vol_stats[i:i+1] = (np.asarray(metrics(realized, volatilities[i], starting_dates1[0], starting_dates[-2])))"
   ]
  },
  {
   "cell_type": "code",
   "execution_count": 65,
   "metadata": {},
   "outputs": [
    {
     "data": {
      "text/html": [
       "<div>\n",
       "<style scoped>\n",
       "    .dataframe tbody tr th:only-of-type {\n",
       "        vertical-align: middle;\n",
       "    }\n",
       "\n",
       "    .dataframe tbody tr th {\n",
       "        vertical-align: top;\n",
       "    }\n",
       "\n",
       "    .dataframe thead th {\n",
       "        text-align: right;\n",
       "    }\n",
       "</style>\n",
       "<table border=\"1\" class=\"dataframe\">\n",
       "  <thead>\n",
       "    <tr style=\"text-align: right;\">\n",
       "      <th></th>\n",
       "      <th>RMSE</th>\n",
       "      <th>R2</th>\n",
       "    </tr>\n",
       "  </thead>\n",
       "  <tbody>\n",
       "    <tr>\n",
       "      <th>VIX</th>\n",
       "      <td>0.074</td>\n",
       "      <td>0.444</td>\n",
       "    </tr>\n",
       "    <tr>\n",
       "      <th>VIX_adj</th>\n",
       "      <td>0.065</td>\n",
       "      <td>0.565</td>\n",
       "    </tr>\n",
       "    <tr>\n",
       "      <th>EWMA</th>\n",
       "      <td>0.066</td>\n",
       "      <td>0.553</td>\n",
       "    </tr>\n",
       "    <tr>\n",
       "      <th>GARCH</th>\n",
       "      <td>0.068</td>\n",
       "      <td>0.524</td>\n",
       "    </tr>\n",
       "    <tr>\n",
       "      <th>Historical</th>\n",
       "      <td>0.071</td>\n",
       "      <td>0.477</td>\n",
       "    </tr>\n",
       "  </tbody>\n",
       "</table>\n",
       "</div>"
      ],
      "text/plain": [
       "             RMSE     R2\n",
       "VIX         0.074  0.444\n",
       "VIX_adj     0.065  0.565\n",
       "EWMA        0.066  0.553\n",
       "GARCH       0.068  0.524\n",
       "Historical  0.071  0.477"
      ]
     },
     "execution_count": 65,
     "metadata": {},
     "output_type": "execute_result"
    }
   ],
   "source": [
    "(vol_stats[:-2])"
   ]
  },
  {
   "cell_type": "code",
   "execution_count": null,
   "metadata": {},
   "outputs": [],
   "source": [
    "fig, ax = plt.subplots (figsize = (16, 10))\n",
    "#ax.plot(garch_implied, 'b', label = 'GARCH Hybrid')\n",
    "#ax.legend()\n",
    "ax.plot(ewma_implied, 'g.-', linewidth = 2,  label = 'EWMA Hybrid')\n",
    "ax.legend()\n",
    "ax.plot(realized, 'r--', linewidth = 2, label = 'Realized')\n",
    "ax.legend()\n",
    "ax.plot(garch_implied, 'b', linewidth = 2, label = 'Garch_implied')\n",
    "ax.legend()\n",
    "\n",
    "plt.show()"
   ]
  },
  {
   "cell_type": "markdown",
   "metadata": {},
   "source": [
    "We see that models trying to utilize historical information in combination with implied volatility tend to perform the best. Therefore, our next step would be to strike the right combination between these models."
   ]
  },
  {
   "cell_type": "code",
   "execution_count": 67,
   "metadata": {},
   "outputs": [
    {
     "name": "stdout",
     "output_type": "stream",
     "text": [
      "Stored 'starting_dates1' (DatetimeIndex)\n",
      "Stored 'vix_' (DataFrame)\n",
      "Stored 'vix_adj' (DataFrame)\n",
      "Stored 'ewma_vol_estimate_annualized' (Series)\n",
      "Stored 'ewma_implied' (DataFrame)\n"
     ]
    }
   ],
   "source": [
    "%store starting_dates1\n",
    "%store vix_\n",
    "%store vix_adj\n",
    "%store ewma_vol_estimate_annualized\n",
    "%store ewma_implied "
   ]
  },
  {
   "cell_type": "code",
   "execution_count": 68,
   "metadata": {},
   "outputs": [
    {
     "name": "stdout",
     "output_type": "stream",
     "text": [
      "                            OLS Regression Results                            \n",
      "==============================================================================\n",
      "Dep. Variable:                    S&P   R-squared:                       0.622\n",
      "Model:                            OLS   Adj. R-squared:                  0.618\n",
      "Method:                 Least Squares   F-statistic:                     193.1\n",
      "Date:                Wed, 08 Apr 2020   Prob (F-statistic):           2.49e-50\n",
      "Time:                        02:52:16   Log-Likelihood:                 329.01\n",
      "No. Observations:                 238   AIC:                            -652.0\n",
      "Df Residuals:                     235   BIC:                            -641.6\n",
      "Df Model:                           2                                         \n",
      "Covariance Type:            nonrobust                                         \n",
      "==============================================================================\n",
      "                 coef    std err          t      P>|t|      [0.025      0.975]\n",
      "------------------------------------------------------------------------------\n",
      "const          0.0134      0.008      1.589      0.113      -0.003       0.030\n",
      "Vix_adj        0.5125      0.151      3.389      0.001       0.215       0.810\n",
      "EWMA           0.4399      0.119      3.700      0.000       0.206       0.674\n",
      "==============================================================================\n",
      "Omnibus:                      112.229   Durbin-Watson:                   1.696\n",
      "Prob(Omnibus):                  0.000   Jarque-Bera (JB):              922.438\n",
      "Skew:                           1.650   Prob(JB):                    4.96e-201\n",
      "Kurtosis:                      12.063   Cond. No.                         48.9\n",
      "==============================================================================\n",
      "\n",
      "Warnings:\n",
      "[1] Standard Errors assume that the covariance matrix of the errors is correctly specified.\n"
     ]
    }
   ],
   "source": [
    "X = pd.concat ([vix_adj, ewma_vol_estimate_annualized], axis = 1)[1:-1]\n",
    "X.columns = ['Vix_adj', 'EWMA']\n",
    "X = sm.add_constant(X)\n",
    "y = realized[(realized.index>=X.index[0]) * (realized.index<=X.index[-1])].copy()\n",
    "\n",
    "model = sm.OLS(y.astype(float), X.astype(float))\n",
    "results = model.fit()\n",
    "print(results.summary())"
   ]
  },
  {
   "cell_type": "markdown",
   "metadata": {},
   "source": [
    "# Improving Hybrid Models - Finding Z\n",
    "    - our 50:50 hybrid models are somewhat naive, which is why we introduce new parameter 'z'. Namely, we ought to find optimal z that would lead to minimum MSE,\n",
    "    once we compare our estimator to the realized volatility. \n",
    "    \n",
    "    - formula which we decided to apply is: z * model1 + (1-z) * model2, where we refer to VIX_adj as model 1, and EWMA/GARCH estimates as model 2\n",
    "    \n",
    "    - first we calculate optimal z for each of the bear markets in the 21st century. Counter to our intuition, during these periods we see more weight allocated\n",
    "    to our historical estimates than to the implied volatility, despite we expected that option markets offer better estimates during crisis periods. Conclusion is,\n",
    "    that spot market is fast at capturing new information. \n",
    "    \n",
    "    - afterwards, we use 5 years of training period to derive estimate of optimal z, and we apply them for the next five (out of sample) years. By optimal z, we mean z that minimizes MSE\n",
    "    for the training interval."
   ]
  },
  {
   "cell_type": "code",
   "execution_count": 71,
   "metadata": {},
   "outputs": [],
   "source": [
    "def hybrid (z, model1, model2):\n",
    "    result = pd.DataFrame(index = model1.index, columns=['Hybrid'])\n",
    "    for i in range (len(model1)):\n",
    "        result[i:i+1] = model1[i:i+1].values * z + model2[i:i+1].values * (1-z)\n",
    "    return result        \n",
    "\n",
    "def MSE (realized, predicted, start, end):\n",
    "    predicted = predicted[(predicted.index>=start)*(predicted.index<=end)]\n",
    "    realized = realized[(realized.index>=start)*(realized.index<=end)]\n",
    "    return mean_squared_error(realized, predicted)\n",
    "\n",
    "def find_z (model1, model2, start, end):\n",
    "\n",
    "    \n",
    "    f = lambda x: MSE(realized, hybrid(x, model1, model2), start, end)\n",
    "        \n",
    "    result = minimize(f, 0.5, method = 'trust-constr', bounds = Bounds(0, 1))  \n",
    "    #print ('Optimal Z is:', result.x), print ('MSE is:', MSE(realized, hybrid(float (result.x), model1, model2), start, end))\n",
    "    return result.x"
   ]
  },
  {
   "cell_type": "markdown",
   "metadata": {},
   "source": [
    "### *** Z During Bear Markets"
   ]
  },
  {
   "cell_type": "code",
   "execution_count": 72,
   "metadata": {},
   "outputs": [],
   "source": [
    "data = []\n",
    "for i in range (len(bear_markets)):\n",
    "    data.append (round((float (find_z(vix_adj, ewma_vol_estimate_annualized, bear_markets[i][0], bear_markets[i][-1]))), 3))"
   ]
  },
  {
   "cell_type": "code",
   "execution_count": 73,
   "metadata": {},
   "outputs": [],
   "source": [
    "crisis_names = ['2000.03.- 2002.09.', '2002.10.- 2003.03.', '2007.09.- 2009.03.','2010.04.- 2010.07.','2011.04.- 2011.09.','2015.05.- 2015.08.','2015.10.- 2016.02.']"
   ]
  },
  {
   "cell_type": "code",
   "execution_count": 74,
   "metadata": {},
   "outputs": [
    {
     "data": {
      "text/html": [
       "<div>\n",
       "<style scoped>\n",
       "    .dataframe tbody tr th:only-of-type {\n",
       "        vertical-align: middle;\n",
       "    }\n",
       "\n",
       "    .dataframe tbody tr th {\n",
       "        vertical-align: top;\n",
       "    }\n",
       "\n",
       "    .dataframe thead th {\n",
       "        text-align: right;\n",
       "    }\n",
       "</style>\n",
       "<table border=\"1\" class=\"dataframe\">\n",
       "  <thead>\n",
       "    <tr style=\"text-align: right;\">\n",
       "      <th></th>\n",
       "      <th>weight</th>\n",
       "    </tr>\n",
       "  </thead>\n",
       "  <tbody>\n",
       "    <tr>\n",
       "      <th>2000.03.- 2002.09.</th>\n",
       "      <td>0.558</td>\n",
       "    </tr>\n",
       "    <tr>\n",
       "      <th>2002.10.- 2003.03.</th>\n",
       "      <td>0.339</td>\n",
       "    </tr>\n",
       "    <tr>\n",
       "      <th>2007.09.- 2009.03.</th>\n",
       "      <td>0.364</td>\n",
       "    </tr>\n",
       "    <tr>\n",
       "      <th>2010.04.- 2010.07.</th>\n",
       "      <td>0.355</td>\n",
       "    </tr>\n",
       "    <tr>\n",
       "      <th>2011.04.- 2011.09.</th>\n",
       "      <td>0.003</td>\n",
       "    </tr>\n",
       "    <tr>\n",
       "      <th>2015.05.- 2015.08.</th>\n",
       "      <td>0.005</td>\n",
       "    </tr>\n",
       "    <tr>\n",
       "      <th>2015.10.- 2016.02.</th>\n",
       "      <td>0.004</td>\n",
       "    </tr>\n",
       "  </tbody>\n",
       "</table>\n",
       "</div>"
      ],
      "text/plain": [
       "                    weight\n",
       "2000.03.- 2002.09.   0.558\n",
       "2002.10.- 2003.03.   0.339\n",
       "2007.09.- 2009.03.   0.364\n",
       "2010.04.- 2010.07.   0.355\n",
       "2011.04.- 2011.09.   0.003\n",
       "2015.05.- 2015.08.   0.005\n",
       "2015.10.- 2016.02.   0.004"
      ]
     },
     "execution_count": 74,
     "metadata": {},
     "output_type": "execute_result"
    }
   ],
   "source": [
    "pd.DataFrame(data = data, index = crisis_names, columns = ['weight'])"
   ]
  },
  {
   "cell_type": "code",
   "execution_count": 77,
   "metadata": {},
   "outputs": [],
   "source": [
    "#data_to_image(data, file_name='Crisis_Z.png')"
   ]
  },
  {
   "cell_type": "code",
   "execution_count": null,
   "metadata": {},
   "outputs": [],
   "source": [
    "for i in range(len(bear_markets)):\n",
    "    print (bear_markets[i].name, find_z(vix_adj, ewma_vol_estimate_annualized, bear_markets[i][0], bear_markets[i][-1]))\n",
    "    print ('----------------------')"
   ]
  },
  {
   "cell_type": "markdown",
   "metadata": {},
   "source": [
    "### *** Optimizing Z - Out of Sample Testing"
   ]
  },
  {
   "cell_type": "code",
   "execution_count": 78,
   "metadata": {},
   "outputs": [],
   "source": [
    "def find_z (model1, model2, start, end, realized):\n",
    "\n",
    "    f = lambda x: MSE(realized, hybrid(x, model1, model2), start, end)\n",
    "        \n",
    "    result = minimize(f, 0.5, method = 'trust-constr', bounds = Bounds(0, 1))  \n",
    "    return result.x"
   ]
  },
  {
   "cell_type": "code",
   "execution_count": 79,
   "metadata": {},
   "outputs": [],
   "source": [
    "def optimize_hybrid (model1, model2, sample_dates, number_of_training_periods, realized):\n",
    "    \n",
    "    \"\"\"\"\"\n",
    "    number_of_training_periods = 0, actually means 1 month of data used as an estimate\n",
    "    \"\"\"\"\"\n",
    "   \n",
    "    zets = []\n",
    "    for i in range ((len(sample_dates)-number_of_training_periods)):\n",
    "        zets.append (float(find_z(vix_adj, ewma_vol_estimate_annualized, sample_dates[i], sample_dates[i+number_of_training_periods], realized)))\n",
    "        \n",
    "    rebalancing_dates = sample_dates[sample_dates>sample_dates[number_of_training_periods]]\n",
    "    results = []\n",
    "\n",
    "    for i in range(len(model1[model1.index>=rebalancing_dates[0]])):\n",
    "        results.append (np.float(model1[model1.index==rebalancing_dates[i]].values * zets[i] + model2[(model2.index==rebalancing_dates[i])].values * (1-zets[i])))    \n",
    "    \n",
    "   \n",
    "    return pd.Series(results, index = rebalancing_dates[:-1])"
   ]
  },
  {
   "cell_type": "code",
   "execution_count": 80,
   "metadata": {},
   "outputs": [
    {
     "data": {
      "text/plain": [
       "11.904761904761905"
      ]
     },
     "execution_count": 80,
     "metadata": {},
     "output_type": "execute_result"
    }
   ],
   "source": [
    "# finding a starting date, but making sure it goes through 1999, 12, 31\n",
    "np.sum((market_return.index<=dt.datetime(1999, 12, 31))*((market_return.index>market_return.index[3])))/21"
   ]
  },
  {
   "cell_type": "code",
   "execution_count": 81,
   "metadata": {},
   "outputs": [
    {
     "data": {
      "text/plain": [
       "1"
      ]
     },
     "execution_count": 81,
     "metadata": {},
     "output_type": "execute_result"
    }
   ],
   "source": [
    "market_return = df_CCR ['^GSPC']\n",
    "start = dt.datetime(1994, 1, 5)\n",
    "delta = 21\n",
    "starting_dates2 = []\n",
    "total=0\n",
    "while total<len(market_return[market_return.index>start]):\n",
    "    starting_dates2.append(market_return.index[int(np.argwhere(market_return.index==start))+total])\n",
    "    total+=delta\n",
    "    \n",
    "starting_dates2 = pd.to_datetime(starting_dates2)\n",
    "    \n",
    "# check\n",
    "np.sum([starting_dates2[i]==starting_dates1[0] for i in range (len(starting_dates2))])"
   ]
  },
  {
   "cell_type": "code",
   "execution_count": 82,
   "metadata": {},
   "outputs": [
    {
     "name": "stdout",
     "output_type": "stream",
     "text": [
      "Stored 'starting_dates2' (DatetimeIndex)\n"
     ]
    }
   ],
   "source": [
    "%store starting_dates2"
   ]
  },
  {
   "cell_type": "code",
   "execution_count": 83,
   "metadata": {},
   "outputs": [],
   "source": [
    "def out_of_sample_EWMA (test, starting_dates):\n",
    "    return test[starting_dates] * 252"
   ]
  },
  {
   "cell_type": "code",
   "execution_count": 84,
   "metadata": {},
   "outputs": [],
   "source": [
    "vix_long = pd.concat([vix1, vix2])['VIX Open']\n",
    "vix_long.index = pd.to_datetime(vix_long.index)\n",
    "vix_long = vix_long[vix_long.index.year>=1994]\n",
    "\n",
    "def filter (vix, starting_dates):\n",
    "    vix_ = pd.DataFrame (data=None, index=starting_dates, columns=['VIX'])\n",
    "    for i in range(len(starting_dates)):\n",
    "        vix_[i:i+1] = (vix[vix.index == starting_dates[i]])\n",
    "    vix_ = vix_/100\n",
    "    vix_ = vix_[:-1]\n",
    "    return vix_\n",
    "\n",
    "vix1994 = filter (vix_long, starting_dates2)\n",
    "\n",
    "ewma_var1994 = (out_of_sample_EWMA (EWMA (0.94, df_CCR, starting_dates2[0]), starting_dates2))\n",
    "ewma_vol_1994 = np.sqrt (ewma_var1994)\n",
    "\n",
    "realized1994 = realized_volatility (market_return, starting_dates2)\n",
    "vix1994 = vix1994 [vix1994.index>=realized1994.index[0]]\n",
    "vix_adj1994 = vol_risk_premium (realized1994, vix1994, starting_dates2, starting_dates2[11]) \n",
    "\n",
    "ewma_vol_1994 =  ewma_vol_1994[ewma_vol_1994.index>=vix_adj1994.index[0]]\n",
    "realized1994 = realized1994[realized1994.index>=vix_adj1994.index[0]]"
   ]
  },
  {
   "cell_type": "code",
   "execution_count": 85,
   "metadata": {},
   "outputs": [],
   "source": [
    "ewma_vol_1994 = ewma_vol_1994.drop(labels=[vix_adj1994[np.asarray (vix_adj1994.isnull())].index[0]])\n",
    "realized1994 = realized1994.drop (labels=[vix_adj1994[np.asarray (vix_adj1994.isnull())].index[0]])\n",
    "vix_adj1994 = vix_adj1994.dropna()\n",
    "realized1994 = realized1994[realized1994.index.year<2020]\n",
    "vix_adj1994 = vix_adj1994[vix_adj1994.index.year<2020]\n",
    "ewma_vol_1994 = ewma_vol_1994[ewma_vol_1994.index.year<2020]"
   ]
  },
  {
   "cell_type": "code",
   "execution_count": 86,
   "metadata": {},
   "outputs": [
    {
     "data": {
      "text/plain": [
       "(300, 300, 300)"
      ]
     },
     "execution_count": 86,
     "metadata": {},
     "output_type": "execute_result"
    }
   ],
   "source": [
    "len (vix_adj1994), len(ewma_vol_1994), len(realized1994)"
   ]
  },
  {
   "cell_type": "code",
   "execution_count": 87,
   "metadata": {},
   "outputs": [],
   "source": [
    "starts = []\n",
    "i = 0\n",
    "while i<=20:\n",
    "    starts.append(starting_dates1[starting_dates1.year == starting_dates1.year.unique()[i]][-1])\n",
    "    i+=4"
   ]
  },
  {
   "cell_type": "code",
   "execution_count": 88,
   "metadata": {},
   "outputs": [],
   "source": [
    "def estimate (model1, model2, starting_dates2, starts, realized, years):\n",
    "    zets = []\n",
    "    for i in range(len(starts)):\n",
    "        zets.append (find_z(model1, model2, starting_dates2[starting_dates2.year==(starts[i].year-years)][-1], starts[i], realized))\n",
    "\n",
    "    res = {}\n",
    "    for i in range (len(zets)-1):\n",
    "         res[i] = (hybrid (zets[i], model1[(model1.index>starts[i])*(model1.index<=starts[i+1])], model2[(model1.index>starts[i])*(model1.index<=starts[i+1])]))\n",
    "\n",
    "    return pd.concat([res[i] for i in range (len (res))])"
   ]
  },
  {
   "cell_type": "code",
   "execution_count": 89,
   "metadata": {},
   "outputs": [],
   "source": [
    "starts = []\n",
    "i = 0\n",
    "while i<=20:\n",
    "    starts.append(starting_dates1[starting_dates1.year == starting_dates1.year.unique()[i]][-1])\n",
    "    i+=5"
   ]
  },
  {
   "cell_type": "code",
   "execution_count": 90,
   "metadata": {},
   "outputs": [],
   "source": [
    "model_ewma_5years = estimate(vix_adj1994, ewma_vol_1994, starting_dates2, starts, realized1994, 5)"
   ]
  },
  {
   "cell_type": "code",
   "execution_count": 91,
   "metadata": {},
   "outputs": [
    {
     "name": "stdout",
     "output_type": "stream",
     "text": [
      "Stored 'model_ewma_5years' (DataFrame)\n"
     ]
    }
   ],
   "source": [
    "%store model_ewma_5years"
   ]
  },
  {
   "cell_type": "code",
   "execution_count": 92,
   "metadata": {},
   "outputs": [
    {
     "data": {
      "text/html": [
       "<div>\n",
       "<style scoped>\n",
       "    .dataframe tbody tr th:only-of-type {\n",
       "        vertical-align: middle;\n",
       "    }\n",
       "\n",
       "    .dataframe tbody tr th {\n",
       "        vertical-align: top;\n",
       "    }\n",
       "\n",
       "    .dataframe thead th {\n",
       "        text-align: right;\n",
       "    }\n",
       "</style>\n",
       "<table border=\"1\" class=\"dataframe\">\n",
       "  <thead>\n",
       "    <tr style=\"text-align: right;\">\n",
       "      <th></th>\n",
       "      <th>RMSE</th>\n",
       "      <th>R2</th>\n",
       "    </tr>\n",
       "  </thead>\n",
       "  <tbody>\n",
       "    <tr>\n",
       "      <th>Values</th>\n",
       "      <td>0.059</td>\n",
       "      <td>0.639</td>\n",
       "    </tr>\n",
       "  </tbody>\n",
       "</table>\n",
       "</div>"
      ],
      "text/plain": [
       "         RMSE     R2\n",
       "Values  0.059  0.639"
      ]
     },
     "execution_count": 92,
     "metadata": {},
     "output_type": "execute_result"
    }
   ],
   "source": [
    "metrics (realized, model_ewma_5years[:-1], starting_dates1[3], starting_dates1[-1]) # THE BEST"
   ]
  },
  {
   "cell_type": "code",
   "execution_count": 93,
   "metadata": {},
   "outputs": [],
   "source": [
    "model_garch_5years = estimate(vix_adj1994, garch_vol1995, starting_dates2, starts, realized1994, 5)"
   ]
  },
  {
   "cell_type": "code",
   "execution_count": 94,
   "metadata": {},
   "outputs": [
    {
     "data": {
      "text/html": [
       "<div>\n",
       "<style scoped>\n",
       "    .dataframe tbody tr th:only-of-type {\n",
       "        vertical-align: middle;\n",
       "    }\n",
       "\n",
       "    .dataframe tbody tr th {\n",
       "        vertical-align: top;\n",
       "    }\n",
       "\n",
       "    .dataframe thead th {\n",
       "        text-align: right;\n",
       "    }\n",
       "</style>\n",
       "<table border=\"1\" class=\"dataframe\">\n",
       "  <thead>\n",
       "    <tr style=\"text-align: right;\">\n",
       "      <th></th>\n",
       "      <th>RMSE</th>\n",
       "      <th>R2</th>\n",
       "    </tr>\n",
       "  </thead>\n",
       "  <tbody>\n",
       "    <tr>\n",
       "      <th>Values</th>\n",
       "      <td>6.1</td>\n",
       "      <td>62.1</td>\n",
       "    </tr>\n",
       "  </tbody>\n",
       "</table>\n",
       "</div>"
      ],
      "text/plain": [
       "       RMSE    R2\n",
       "Values  6.1  62.1"
      ]
     },
     "execution_count": 94,
     "metadata": {},
     "output_type": "execute_result"
    }
   ],
   "source": [
    "metrics (realized, model_garch_5years[:-1], starting_dates1[3], starting_dates1[-1])*100"
   ]
  },
  {
   "cell_type": "code",
   "execution_count": 95,
   "metadata": {},
   "outputs": [
    {
     "data": {
      "image/png": "[encoded data removed]",
      "text/plain": [
       "<Figure size 1152x720 with 1 Axes>"
      ]
     },
     "metadata": {
      "needs_background": "light"
     },
     "output_type": "display_data"
    }
   ],
   "source": [
    "fig, ax = plt.subplots (figsize = (16, 10))\n",
    "\n",
    "ax.plot(model_ewma_5years, 'g.-', linewidth = 2,  label = 'EWMA_implied')\n",
    "ax.legend()\n",
    "ax.plot(realized[realized.index>=model_ewma_5years.index[0]], 'r--', linewidth = 2, label = 'Realized')\n",
    "ax.legend()\n",
    "\n",
    "\n",
    "plt.show()"
   ]
  },
  {
   "cell_type": "markdown",
   "metadata": {},
   "source": [
    "We observe that EWMA & VIX_adj model has the best out of sample performance. Therefore, our next step would be to try to utilize this information in the context of portfolio optimization."
   ]
  },
  {
   "cell_type": "code",
   "execution_count": 97,
   "metadata": {},
   "outputs": [
    {
     "data": {
      "text/html": [
       "<table class=\"simpletable\">\n",
       "<caption>OLS Regression Results</caption>\n",
       "<tr>\n",
       "  <th>Dep. Variable:</th>           <td>S&P</td>       <th>  R-squared:         </th> <td>   0.644</td>\n",
       "</tr>\n",
       "<tr>\n",
       "  <th>Model:</th>                   <td>OLS</td>       <th>  Adj. R-squared:    </th> <td>   0.643</td>\n",
       "</tr>\n",
       "<tr>\n",
       "  <th>Method:</th>             <td>Least Squares</td>  <th>  F-statistic:       </th> <td>   427.5</td>\n",
       "</tr>\n",
       "<tr>\n",
       "  <th>Date:</th>             <td>Wed, 08 Apr 2020</td> <th>  Prob (F-statistic):</th> <td>6.90e-55</td>\n",
       "</tr>\n",
       "<tr>\n",
       "  <th>Time:</th>                 <td>03:01:15</td>     <th>  Log-Likelihood:    </th> <td>  336.34</td>\n",
       "</tr>\n",
       "<tr>\n",
       "  <th>No. Observations:</th>      <td>   238</td>      <th>  AIC:               </th> <td>  -668.7</td>\n",
       "</tr>\n",
       "<tr>\n",
       "  <th>Df Residuals:</th>          <td>   236</td>      <th>  BIC:               </th> <td>  -661.7</td>\n",
       "</tr>\n",
       "<tr>\n",
       "  <th>Df Model:</th>              <td>     1</td>      <th>                     </th>     <td> </td>   \n",
       "</tr>\n",
       "<tr>\n",
       "  <th>Covariance Type:</th>      <td>nonrobust</td>    <th>                     </th>     <td> </td>   \n",
       "</tr>\n",
       "</table>\n",
       "<table class=\"simpletable\">\n",
       "<tr>\n",
       "        <td></td>          <th>coef</th>     <th>std err</th>      <th>t</th>      <th>P>|t|</th>  <th>[0.025</th>    <th>0.975]</th>  \n",
       "</tr>\n",
       "<tr>\n",
       "  <th>const</th>        <td>    0.0093</td> <td>    0.008</td> <td>    1.153</td> <td> 0.250</td> <td>   -0.007</td> <td>    0.025</td>\n",
       "</tr>\n",
       "<tr>\n",
       "  <th>EWMA_implied</th> <td>    0.9998</td> <td>    0.048</td> <td>   20.675</td> <td> 0.000</td> <td>    0.905</td> <td>    1.095</td>\n",
       "</tr>\n",
       "</table>\n",
       "<table class=\"simpletable\">\n",
       "<tr>\n",
       "  <th>Omnibus:</th>       <td>109.360</td> <th>  Durbin-Watson:     </th> <td>   1.653</td> \n",
       "</tr>\n",
       "<tr>\n",
       "  <th>Prob(Omnibus):</th> <td> 0.000</td>  <th>  Jarque-Bera (JB):  </th> <td> 867.201</td> \n",
       "</tr>\n",
       "<tr>\n",
       "  <th>Skew:</th>          <td> 1.609</td>  <th>  Prob(JB):          </th> <td>4.89e-189</td>\n",
       "</tr>\n",
       "<tr>\n",
       "  <th>Kurtosis:</th>      <td>11.780</td>  <th>  Cond. No.          </th> <td>    12.9</td> \n",
       "</tr>\n",
       "</table><br/><br/>Warnings:<br/>[1] Standard Errors assume that the covariance matrix of the errors is correctly specified."
      ],
      "text/plain": [
       "<class 'statsmodels.iolib.summary.Summary'>\n",
       "\"\"\"\n",
       "                            OLS Regression Results                            \n",
       "==============================================================================\n",
       "Dep. Variable:                    S&P   R-squared:                       0.644\n",
       "Model:                            OLS   Adj. R-squared:                  0.643\n",
       "Method:                 Least Squares   F-statistic:                     427.5\n",
       "Date:                Wed, 08 Apr 2020   Prob (F-statistic):           6.90e-55\n",
       "Time:                        03:01:15   Log-Likelihood:                 336.34\n",
       "No. Observations:                 238   AIC:                            -668.7\n",
       "Df Residuals:                     236   BIC:                            -661.7\n",
       "Df Model:                           1                                         \n",
       "Covariance Type:            nonrobust                                         \n",
       "================================================================================\n",
       "                   coef    std err          t      P>|t|      [0.025      0.975]\n",
       "--------------------------------------------------------------------------------\n",
       "const            0.0093      0.008      1.153      0.250      -0.007       0.025\n",
       "EWMA_implied     0.9998      0.048     20.675      0.000       0.905       1.095\n",
       "==============================================================================\n",
       "Omnibus:                      109.360   Durbin-Watson:                   1.653\n",
       "Prob(Omnibus):                  0.000   Jarque-Bera (JB):              867.201\n",
       "Skew:                           1.609   Prob(JB):                    4.89e-189\n",
       "Kurtosis:                      11.780   Cond. No.                         12.9\n",
       "==============================================================================\n",
       "\n",
       "Warnings:\n",
       "[1] Standard Errors assume that the covariance matrix of the errors is correctly specified.\n",
       "\"\"\""
      ]
     },
     "metadata": {},
     "output_type": "display_data"
    }
   ],
   "source": [
    "X = model_ewma_5years[:-1]\n",
    "X.columns = ['EWMA_implied']\n",
    "X = sm.add_constant(X)\n",
    "y = realized[(realized.index>=X.index[0]) * (realized.index<=X.index[-1])].copy()\n",
    "\n",
    "model = sm.OLS(y.astype(float), X.astype(float))\n",
    "results = model.fit()\n",
    "display(results.summary())"
   ]
  },
  {
   "cell_type": "code",
   "execution_count": null,
   "metadata": {},
   "outputs": [],
   "source": [
    "bear_markets[0].name"
   ]
  },
  {
   "cell_type": "code",
   "execution_count": 46,
   "metadata": {},
   "outputs": [],
   "source": [
    "x = []\n",
    "for i in range(len(bear_markets)):\n",
    "    x.append(bear_markets[i].name)    "
   ]
  },
  {
   "cell_type": "code",
   "execution_count": 47,
   "metadata": {},
   "outputs": [
    {
     "data": {
      "text/plain": [
       "['March 2000 - October 2002 Crisis',\n",
       " 'November 2002 - March 2003 Market Correction',\n",
       " 'October 2007 - March 2009 Crisis',\n",
       " 'April 2010 - July 2010 Market Correction',\n",
       " 'April 2011 - October 2011 Market Correction',\n",
       " 'May 2015 - August 2015 Market Correction ',\n",
       " 'November 2015 - February 2016 Market Correction ']"
      ]
     },
     "execution_count": 47,
     "metadata": {},
     "output_type": "execute_result"
    }
   ],
   "source": [
    "x"
   ]
  },
  {
   "cell_type": "code",
   "execution_count": 48,
   "metadata": {},
   "outputs": [],
   "source": [
    "lenght = ['929', '104', '517', '70', '157', '96', '100']"
   ]
  },
  {
   "cell_type": "code",
   "execution_count": 49,
   "metadata": {},
   "outputs": [],
   "source": [
    "cs = pd.concat ([pd.Series (lenght), pd.Series(x)], axis = 1)\n",
    "cs.columns = ['Lenght', 'Crisis']\n",
    "cs = cs.set_index('Crisis')"
   ]
  },
  {
   "cell_type": "code",
   "execution_count": 54,
   "metadata": {},
   "outputs": [
    {
     "data": {
      "text/html": [
       "<div>\n",
       "<style scoped>\n",
       "    .dataframe tbody tr th:only-of-type {\n",
       "        vertical-align: middle;\n",
       "    }\n",
       "\n",
       "    .dataframe tbody tr th {\n",
       "        vertical-align: top;\n",
       "    }\n",
       "\n",
       "    .dataframe thead th {\n",
       "        text-align: right;\n",
       "    }\n",
       "</style>\n",
       "<table border=\"1\" class=\"dataframe\">\n",
       "  <thead>\n",
       "    <tr style=\"text-align: right;\">\n",
       "      <th></th>\n",
       "      <th>Length</th>\n",
       "    </tr>\n",
       "  </thead>\n",
       "  <tbody>\n",
       "    <tr>\n",
       "      <th>March 2000 - October 2002 Crisis</th>\n",
       "      <td>929</td>\n",
       "    </tr>\n",
       "    <tr>\n",
       "      <th>November 2002 - March 2003 Market Correction</th>\n",
       "      <td>104</td>\n",
       "    </tr>\n",
       "    <tr>\n",
       "      <th>October 2007 - March 2009 Crisis</th>\n",
       "      <td>517</td>\n",
       "    </tr>\n",
       "    <tr>\n",
       "      <th>April 2010 - July 2010 Market Correction</th>\n",
       "      <td>70</td>\n",
       "    </tr>\n",
       "    <tr>\n",
       "      <th>April 2011 - October 2011 Market Correction</th>\n",
       "      <td>157</td>\n",
       "    </tr>\n",
       "    <tr>\n",
       "      <th>May 2015 - August 2015 Market Correction</th>\n",
       "      <td>96</td>\n",
       "    </tr>\n",
       "    <tr>\n",
       "      <th>November 2015 - February 2016 Market Correction</th>\n",
       "      <td>100</td>\n",
       "    </tr>\n",
       "  </tbody>\n",
       "</table>\n",
       "</div>"
      ],
      "text/plain": [
       "                                                 Length\n",
       "March 2000 - October 2002 Crisis                    929\n",
       "November 2002 - March 2003 Market Correction        104\n",
       "October 2007 - March 2009 Crisis                    517\n",
       "April 2010 - July 2010 Market Correction             70\n",
       "April 2011 - October 2011 Market Correction         157\n",
       "May 2015 - August 2015 Market Correction             96\n",
       "November 2015 - February 2016 Market Correction     100"
      ]
     },
     "execution_count": 54,
     "metadata": {},
     "output_type": "execute_result"
    }
   ],
   "source": [
    "pd.DataFrame(data = lenght, index = x, columns = ['Length'])"
   ]
  }
 ],
 "metadata": {
  "kernelspec": {
   "display_name": "Python 3",
   "language": "python",
   "name": "python3"
  },
  "language_info": {
   "codemirror_mode": {
    "name": "ipython",
    "version": 3
   },
   "file_extension": ".py",
   "mimetype": "text/x-python",
   "name": "python",
   "nbconvert_exporter": "python",
   "pygments_lexer": "ipython3",
   "version": "3.7.6"
  }
 },
 "nbformat": 4,
 "nbformat_minor": 4
}
